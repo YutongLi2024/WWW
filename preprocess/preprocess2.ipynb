{
 "cells": [
  {
   "cell_type": "markdown",
   "metadata": {},
   "source": [
    "# MMSBR preprocess step 2"
   ]
  },
  {
   "cell_type": "code",
   "execution_count": 4,
   "metadata": {
    "scrolled": true,
    "tags": []
   },
   "outputs": [
    {
     "name": "stderr",
     "output_type": "stream",
     "text": [
      "714668it [00:31, 22883.42it/s]\n"
     ]
    },
    {
     "name": "stdout",
     "output_type": "stream",
     "text": [
      "#session:  293796\n",
      "&item:  66223\n",
      "#category:  3487\n",
      "dataset:  Clothing_Shoes_and_Jewelry\n",
      "2024-10-05 00:16:24\n",
      "done\n"
     ]
    }
   ],
   "source": [
    "import os\n",
    "import pickle\n",
    "import time\n",
    "import pandas as pd\n",
    "import numpy as np\n",
    "from tqdm import tqdm\n",
    "\n",
    "meta_dataset = 'Clothing_Shoes_and_Jewelry'\n",
    "data_path =  './dict/' + meta_dataset +  '/interaction.csv'\n",
    "\n",
    "data_all = pd.read_csv(data_path)\n",
    "\n",
    "data_all = data_all.rename(columns={'reviewerID':'sessionID','asin':'itemID', 'unixReviewTime':'time', 'price_level':'priceLevel', 'cate':'category'})\n",
    "data_all = data_all[['sessionID', 'itemID', 'priceLevel', 'category', 'time']]\n",
    "\n",
    "\n",
    "\n",
    "# dict = {reviewerID: sessionID}\n",
    "reviewerID2sessionID = {}\n",
    "# dict = {asinID: itemID(renumber starting form 1)}\n",
    "asin2itemID = {}\n",
    "\n",
    "category2categoryID = {}\n",
    "\n",
    "sessionNum = 0\n",
    "itemNum = 0\n",
    "categoryNum = 0\n",
    "\n",
    "# renumber the item & session \n",
    "for _, row in tqdm(data_all.iterrows()):\n",
    "    if row['sessionID'] not in reviewerID2sessionID:\n",
    "        sessionNum += 1\n",
    "        reviewerID2sessionID[row['sessionID']] = sessionNum\n",
    "    if row['itemID'] not in asin2itemID:\n",
    "        itemNum += 1\n",
    "        asin2itemID[row['itemID']] = itemNum\n",
    "    if row['category'] not in category2categoryID:\n",
    "        categoryNum += 1\n",
    "        category2categoryID[row['category']] = categoryNum\n",
    "    \n",
    "print('#session: ', sessionNum)\n",
    "print('&item: ', itemNum)\n",
    "print('#category: ', categoryNum)\n",
    "\n",
    "def reSession(reviewerID):\n",
    "    if reviewerID in reviewerID2sessionID:\n",
    "        return reviewerID2sessionID[reviewerID]\n",
    "    else:\n",
    "        print('session is not recorded')\n",
    "        return 'none'\n",
    "    \n",
    "def reItem(asin):\n",
    "    if asin in asin2itemID:\n",
    "        return asin2itemID[asin]\n",
    "    else:\n",
    "        print('item is not recorded')\n",
    "        return 'none'\n",
    "    \n",
    "def reCate(category):\n",
    "    if category in category2categoryID:\n",
    "        return category2categoryID[category]\n",
    "    else:\n",
    "        print('category is not recorded')\n",
    "        return 'none'\n",
    "    \n",
    "\n",
    "def priceInt(price):\n",
    "    return int(price)\n",
    "\n",
    "\n",
    "data_all['sessionID']=data_all.sessionID.map(reSession)\n",
    "data_all['itemID']=data_all.itemID.map(reItem)\n",
    "data_all['priceLevel']=data_all.priceLevel.map(priceInt)\n",
    "data_all['category']=data_all.category.map(reCate)\n",
    "data_all = data_all[data_all['itemID'] != 'none']\n",
    "\n",
    "item_inter_num = pd.DataFrame(data_all.groupby(data_all['itemID']).count())\n",
    "item_inter_num = item_inter_num.reset_index()[['sessionID', 'itemID']]\n",
    "item_num=item_inter_num.rename(columns={'sessionID':'item_num'})\n",
    "data_all = pd.merge(data_all, item_num, how='left', on = 'itemID')\n",
    "\n",
    "data_all = data_all[data_all['item_num']>4]\n",
    "data_all = data_all[['sessionID', 'itemID', 'priceLevel', 'category', 'time']]\n",
    "\n",
    "save_sess_path = './dict/' + meta_dataset +'/session_data.csv'\n",
    "save_asin2itemID_path = './dict/' + meta_dataset +'/asin2itemID.csv'\n",
    "asin_list = list(asin2itemID.keys())\n",
    "itemID_list = list(asin2itemID.values())\n",
    "asin2itemID_dict = {'asin':asin_list, 'itemID':itemID_list}\n",
    "data_asin_itemID = pd.DataFrame(asin2itemID_dict)\n",
    "\n",
    "data_all.to_csv(save_sess_path)\n",
    "data_asin_itemID.to_csv(save_asin2itemID_path)\n",
    "print(\"dataset: \", meta_dataset)\n",
    "print(time.strftime(\"%Y-%m-%d %H:%M:%S\", time.localtime()))\n",
    "print(\"done\")\n"
   ]
  },
  {
   "cell_type": "code",
   "execution_count": null,
   "metadata": {},
   "outputs": [],
   "source": []
  }
 ],
 "metadata": {
  "kernelspec": {
   "display_name": "Python 3 (ipykernel)",
   "language": "python",
   "name": "python3"
  },
  "language_info": {
   "codemirror_mode": {
    "name": "ipython",
    "version": 3
   },
   "file_extension": ".py",
   "mimetype": "text/x-python",
   "name": "python",
   "nbconvert_exporter": "python",
   "pygments_lexer": "ipython3",
   "version": "3.8.10"
  }
 },
 "nbformat": 4,
 "nbformat_minor": 4
}
